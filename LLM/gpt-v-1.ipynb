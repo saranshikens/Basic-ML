{
 "cells": [
  {
   "cell_type": "code",
   "execution_count": null,
   "metadata": {
    "_cell_guid": "b1076dfc-b9ad-4769-8c92-a6c4dae69d19",
    "_uuid": "8f2839f25d086af736a60e9eeb907d3b93b6e0e5",
    "execution": {
     "iopub.execute_input": "2025-06-27T18:05:51.198952Z",
     "iopub.status.busy": "2025-06-27T18:05:51.198747Z",
     "iopub.status.idle": "2025-06-27T18:06:16.327784Z",
     "shell.execute_reply": "2025-06-27T18:06:16.320424Z",
     "shell.execute_reply.started": "2025-06-27T18:05:51.198931Z"
    },
    "trusted": true
   },
   "outputs": [],
   "source": [
    "import torch\n",
    "import torch.nn as nn\n",
    "from torch.nn import functional as F\n",
    "import mmap\n",
    "import random\n",
    "import pickle\n",
    "import argparse\n",
    "\n",
    "parser = argparse.ArgumentParser(description='This is a demonstration program')\n",
    "parser.add_argument('-batch_size', type=str, required=True, help='Please provide a batch_size')\n",
    "args = parser.parse_args()\n",
    "\n",
    "\n",
    "block_size = 32\n",
    "batch_size = 128\n",
    "max_iters = 200\n",
    "learning_rate = 3e-4\n",
    "eval_iters = 100\n",
    "n_embd = 384\n",
    "n_head = 1\n",
    "n_layer = 1\n",
    "dropout = 0.2"
   ]
  },
  {
   "cell_type": "code",
   "execution_count": null,
   "metadata": {
    "execution": {
     "iopub.execute_input": "2025-06-27T18:06:16.328755Z",
     "iopub.status.busy": "2025-06-27T18:06:16.328486Z",
     "iopub.status.idle": "2025-06-27T18:06:16.352371Z",
     "shell.execute_reply": "2025-06-27T18:06:16.346118Z",
     "shell.execute_reply.started": "2025-06-27T18:06:16.328733Z"
    },
    "trusted": true
   },
   "outputs": [],
   "source": [
    "chars = \"\"\n",
    "with open('OpenWebText/vocab.txt', 'r', encoding='utf-8') as f: \n",
    "    text = f.read()\n",
    "    chars = sorted(list(set(text)))\n",
    "vocab_size = len(chars)"
   ]
  },
  {
   "cell_type": "code",
   "execution_count": null,
   "metadata": {
    "execution": {
     "iopub.execute_input": "2025-06-27T18:06:16.353403Z",
     "iopub.status.busy": "2025-06-27T18:06:16.353126Z",
     "iopub.status.idle": "2025-06-27T18:06:16.399772Z",
     "shell.execute_reply": "2025-06-27T18:06:16.395306Z",
     "shell.execute_reply.started": "2025-06-27T18:06:16.353378Z"
    },
    "trusted": true
   },
   "outputs": [],
   "source": [
    "string_to_int = {char:i for i,char in enumerate(chars)}\n",
    "int_to_string = {i:char for i,char in enumerate(chars)}\n",
    "encode = lambda string: [string_to_int[char] for char in string]\n",
    "decode = lambda encoded_string: ''.join([int_to_string[i] for i in encoded_string])"
   ]
  },
  {
   "cell_type": "code",
   "execution_count": null,
   "metadata": {
    "execution": {
     "iopub.execute_input": "2025-06-27T18:06:16.402031Z",
     "iopub.status.busy": "2025-06-27T18:06:16.401815Z",
     "iopub.status.idle": "2025-06-27T18:06:16.412120Z",
     "shell.execute_reply": "2025-06-27T18:06:16.408578Z",
     "shell.execute_reply.started": "2025-06-27T18:06:16.402011Z"
    },
    "trusted": true
   },
   "outputs": [],
   "source": [
    "# memory map for using small snippets of text from a single file of any size\n",
    "def get_random_chunk(split):\n",
    "    filename = \"OpenWebText/train_split.txt\" if split == 'train' else \"OpenWebText/val_split.txt\"\n",
    "    with open(filename, 'rb') as f:\n",
    "        with mmap.mmap(f.fileno(), 0, access=mmap.ACCESS_READ) as mm:\n",
    "            # Determine the file size and a random position to start reading\n",
    "            file_size = len(mm)\n",
    "            start_pos = random.randint(0, (file_size)-block_size*batch_size)\n",
    "\n",
    "            # Seek to the random position and read the block of text\n",
    "            mm.seek(start_pos)\n",
    "            block = mm.read(block_size*batch_size-1)\n",
    "\n",
    "            # Decode the block to a string, ignoring any invalid byte sequences\n",
    "            decoded_block = block.decode('utf-8', errors='ignore').replace('\\r', '')\n",
    "\n",
    "            # Train and test splits\n",
    "            data = torch.tensor(encode(decoded_block), dtype=torch.long)\n",
    "    \n",
    "    return data"
   ]
  },
  {
   "cell_type": "code",
   "execution_count": null,
   "metadata": {},
   "outputs": [],
   "source": [
    "def get_batch(split):\n",
    "    data = get_random_chunk(split)\n",
    "    ix = torch.randint(len(data) - block_size, (batch_size,))\n",
    "    x = torch.stack([data[i:i+block_size+1] for i in ix])\n",
    "    y = torch.stack([data[i+1:i+block_size+1] for i in ix])\n",
    "    return x, y"
   ]
  },
  {
   "cell_type": "code",
   "execution_count": 6,
   "metadata": {
    "execution": {
     "iopub.execute_input": "2025-06-27T18:06:16.430269Z",
     "iopub.status.busy": "2025-06-27T18:06:16.429801Z",
     "iopub.status.idle": "2025-06-27T18:06:16.441611Z",
     "shell.execute_reply": "2025-06-27T18:06:16.437128Z",
     "shell.execute_reply.started": "2025-06-27T18:06:16.430245Z"
    },
    "trusted": true
   },
   "outputs": [],
   "source": [
    "class Head(nn.Module):\n",
    "    def __init__(self, head_size):\n",
    "        super().__init__()\n",
    "        self.key = nn.Linear(n_embd, head_size, bias=False)\n",
    "        self.query = nn.Linear(n_embd, head_size, bias=False)\n",
    "        self.value = nn.Linear(n_embd, head_size, bias=False)\n",
    "        self.register_buffer('tril', torch.tril(torch.ones(block_size, block_size)))\n",
    "\n",
    "        self.dropout = nn.Dropout(dropout)\n",
    "\n",
    "    def forward(self, X):\n",
    "        # input of size (batch, time-step, channels)\n",
    "        # output of size (batch, time-step, head size)\n",
    "        B,T,C = X.shape\n",
    "        k = self.key(X) # (B,T,hs)\n",
    "        q = self.query(X) # (B,T,hs)\n",
    "        # compute attention scores (\"affinities\")\n",
    "        wei = q@k.transpose(-2,-1)*k.shape[-1]**(-0.5) # (B,T,hs) @ (B,hs,T) -> (B,T,T)\n",
    "        wei = wei.masked_fill(self.tril[:T, :T] == 0, float('-inf')) # (B,T,T)\n",
    "        wei = F.softmax(wei, dim=-1) # (B,T,T)\n",
    "        wei = self.dropout(wei)\n",
    "        # perform the weighted aggregation of the values\n",
    "        V = self.value(X) # (B,T,hs)\n",
    "        out = wei @ V # (B,T,T) @ (B,T,hs) -> (B,T,hs)\n",
    "        return out"
   ]
  },
  {
   "cell_type": "code",
   "execution_count": 7,
   "metadata": {
    "execution": {
     "iopub.execute_input": "2025-06-27T18:06:16.442952Z",
     "iopub.status.busy": "2025-06-27T18:06:16.442699Z",
     "iopub.status.idle": "2025-06-27T18:06:16.463623Z",
     "shell.execute_reply": "2025-06-27T18:06:16.457140Z",
     "shell.execute_reply.started": "2025-06-27T18:06:16.442919Z"
    },
    "trusted": true
   },
   "outputs": [],
   "source": [
    "class MultiHeadAttention(nn.Module):\n",
    "    def __init__(self, num_heads, head_size):\n",
    "        super().__init__()\n",
    "        # difference between Module List and Sequential :-\n",
    "        # Module List -> attention for multiple heads are calculated parallely\n",
    "        self.heads = nn.ModuleList([Head(head_size) for _ in range(num_heads)])\n",
    "        self.proj = nn.Linear(head_size*num_heads, n_embd)\n",
    "        self.dropout = nn.Dropout(dropout)\n",
    "\n",
    "    def forward(self, X):\n",
    "        out = torch.cat([h(X) for h in self.heads], dim=-1) # concatenate along last dimension i.e. channel. \n",
    "        # (B,T,C) -> (B,T, [h1,h1,h1,....,h2,h2,h2,.....,h3,h3,h3,......]), where h1's are features of 1st head\n",
    "        out = self.dropout(self.proj(out))\n",
    "        return out"
   ]
  },
  {
   "cell_type": "code",
   "execution_count": 8,
   "metadata": {
    "execution": {
     "iopub.execute_input": "2025-06-27T18:06:16.465660Z",
     "iopub.status.busy": "2025-06-27T18:06:16.465387Z",
     "iopub.status.idle": "2025-06-27T18:06:16.477725Z",
     "shell.execute_reply": "2025-06-27T18:06:16.470956Z",
     "shell.execute_reply.started": "2025-06-27T18:06:16.465626Z"
    },
    "trusted": true
   },
   "outputs": [],
   "source": [
    "class FeedForward(nn.Module):\n",
    "    def __init__(self, n_embd):\n",
    "        super().__init__()\n",
    "        self.net = nn.Sequential(\n",
    "            nn.Linear(n_embd, 4*n_embd),\n",
    "            nn.ReLU(),\n",
    "            nn.Linear(4*n_embd, n_embd),\n",
    "            nn.Dropout(dropout),\n",
    "        )\n",
    "\n",
    "    def forward(self, X):\n",
    "        return self.net(X)"
   ]
  },
  {
   "cell_type": "code",
   "execution_count": 9,
   "metadata": {
    "execution": {
     "iopub.execute_input": "2025-06-27T18:06:16.478711Z",
     "iopub.status.busy": "2025-06-27T18:06:16.478471Z",
     "iopub.status.idle": "2025-06-27T18:06:16.492176Z",
     "shell.execute_reply": "2025-06-27T18:06:16.486750Z",
     "shell.execute_reply.started": "2025-06-27T18:06:16.478678Z"
    },
    "trusted": true
   },
   "outputs": [],
   "source": [
    "class Block(nn.Module):\n",
    "    def __init__(self, n_embd, n_head):\n",
    "        # n_embd: embedding dimension, n_head: the number of heads we'd like\n",
    "        super().__init__()\n",
    "        head_size = n_embd // n_head\n",
    "        self.sa = MultiHeadAttention(n_head, head_size)\n",
    "        self.ffwd = FeedForward(n_embd)\n",
    "        self.ln1 = nn.LayerNorm(n_embd)\n",
    "        self.ln2 = nn.LayerNorm(n_embd)\n",
    "\n",
    "    def forward(self, X):\n",
    "        y = self.sa(X)\n",
    "        X = self.ln1(X+y)\n",
    "        y = self.ffwd(X)\n",
    "        X = self.ln2(X+y)\n",
    "        return X"
   ]
  },
  {
   "cell_type": "code",
   "execution_count": null,
   "metadata": {
    "execution": {
     "iopub.execute_input": "2025-06-27T18:06:16.493659Z",
     "iopub.status.busy": "2025-06-27T18:06:16.493414Z",
     "iopub.status.idle": "2025-06-27T18:06:16.652942Z",
     "shell.execute_reply": "2025-06-27T18:06:16.648234Z",
     "shell.execute_reply.started": "2025-06-27T18:06:16.493624Z"
    },
    "trusted": true
   },
   "outputs": [],
   "source": [
    "class GPTLanguageModel(nn.Module):\n",
    "    def __init__(self, vocab_size):\n",
    "        super().__init__()\n",
    "        self.token_embedding_table = nn.Embedding(vocab_size, n_embd)\n",
    "        self.position_embedding_table = nn.Embedding(block_size, n_embd)\n",
    "        self.blocks = nn.Sequential(*[Block(n_embd, n_head=n_head) for _ in range(n_layer)])\n",
    "        self.ln_f = nn.LayerNorm(n_embd) # final layer norm\n",
    "        self.lm_head = nn.Linear(n_embd, vocab_size)\n",
    "\n",
    "        self.apply(self._init_weights)\n",
    "\n",
    "    def _init_weights(self, module):\n",
    "        if isinstance(module, nn.Linear):\n",
    "            torch.nn.init.normal_(module.weight, mean=0.0, std=0.02)\n",
    "            if module.bias is not None:\n",
    "                torch.nn.init.zeros_(module.bias)\n",
    "        elif isinstance(module, nn.Embedding):\n",
    "            torch.nn.init.normal_(module.weight, mean=0.0, std=0.02)\n",
    "            \n",
    "\n",
    "    def forward(self, index, targets=None):\n",
    "        B,T = index.shape\n",
    "        \n",
    "        # idx and targets are both (B,T) tensor of integers\n",
    "        tok_emb = self.token_embedding_table(index) # (B,T,C)\n",
    "        pos_emb = self.position_embedding_table(torch.arange(T)) # (T,C)\n",
    "        x = tok_emb + pos_emb # (B,T,C)\n",
    "        x = self.blocks(x) # (B,T,C)\n",
    "        x = self.ln_f(x) # (B,T,C)\n",
    "        logits = self.lm_head(x) # (B,T,vocab_size)\n",
    "        \n",
    "        if targets is None:\n",
    "            loss = None\n",
    "        else:\n",
    "            B, T, C = logits.shape\n",
    "            logits = logits.view(B*T, C)\n",
    "            targets = targets.view(B*T)\n",
    "            loss = F.cross_entropy(logits, targets)\n",
    "\n",
    "        return logits, loss\n",
    "\n",
    "    def generate(self, index, max_new_tokens):\n",
    "        # index is (B, T) array of indices in the current context\n",
    "        for _i in range(max_new_tokens):\n",
    "            # get the predictions\n",
    "            logits, loss = self.forward(index)\n",
    "            # focus only on the last time step\n",
    "            logits = logits[:,-1,:] # become (B,C)\n",
    "            # apply softmax to get probabilities\n",
    "            probs = F.softmax(logits, dim=-1) # (B,C)\n",
    "            # sample from the distribution\n",
    "            index_next = torch.multinomial(probs, num_samples=1) # (B,1)\n",
    "            # sample from the distribution\n",
    "            index = torch.cat((index, index_next), dim=-1) # (B, T+1)\n",
    "        return index\n",
    "\n",
    "model = GPTLanguageModel(vocab_size)\n",
    "print(\"loading model parameters\")\n",
    "\n",
    "with open('model-01.pkl', 'rb') as f:\n",
    "    model = pickle.load()\n",
    "print(\"loaded\")"
   ]
  },
  {
   "cell_type": "code",
   "execution_count": null,
   "metadata": {},
   "outputs": [],
   "source": [
    "@torch.no_grad()\n",
    "def estimate_loss():\n",
    "    out = {}\n",
    "    model.eval()\n",
    "    for split in ['train', 'val']:\n",
    "        losses = torch.zeros(eval_iters)\n",
    "        for k in range(eval_iters):\n",
    "            X, y = get_batch(split)\n",
    "            logits, loss = model(X, y)\n",
    "            losses[k] = loss.item()\n",
    "        out[split] = losses.mean()\n",
    "    model.train()\n",
    "    return out"
   ]
  },
  {
   "cell_type": "code",
   "execution_count": null,
   "metadata": {
    "trusted": true
   },
   "outputs": [],
   "source": [
    "# create a PyTorch optimizer\n",
    "optimizer = torch.optim.AdamW(model.parameters(), lr=learning_rate)\n",
    "\n",
    "for iter in range(max_iters):\n",
    "    if iter % eval_iters == 0:\n",
    "        losses = estimate_loss()\n",
    "        print(f\"step: {iter}, train loss: {losses['train']:.4f}, val loss: {losses['val']:.4f}\")\n",
    "    # sample a batch of data\n",
    "    xb, yb = get_batch('train')\n",
    "\n",
    "    # evaluate the loss\n",
    "    logits, loss = model.forward(xb, yb)\n",
    "    optimizer.zero_grad(set_to_none=True)\n",
    "    loss.backward()\n",
    "    optimizer.step()\n",
    "print(loss.item())"
   ]
  },
  {
   "cell_type": "code",
   "execution_count": null,
   "metadata": {},
   "outputs": [],
   "source": [
    "with open('model-01.pkl', 'rb') as f:\n",
    "    pickle.dump(model, f)\n",
    "print(\"model saved\")"
   ]
  },
  {
   "cell_type": "code",
   "execution_count": null,
   "metadata": {
    "execution": {
     "iopub.status.busy": "2025-06-27T18:07:15.890126Z",
     "iopub.status.idle": "2025-06-27T18:07:15.892231Z",
     "shell.execute_reply": "2025-06-27T18:07:15.891573Z",
     "shell.execute_reply.started": "2025-06-27T18:07:15.891557Z"
    },
    "trusted": true
   },
   "outputs": [],
   "source": [
    "context = torch.zeros((1,1), dtype=torch.long)\n",
    "generated_chars = decode(model.generate(context, max_new_tokens=500)[0].tolist())\n",
    "# print(generated_chars)"
   ]
  }
 ],
 "metadata": {
  "kaggle": {
   "accelerator": "none",
   "dataSources": [
    {
     "datasetId": 7753367,
     "sourceId": 12301114,
     "sourceType": "datasetVersion"
    }
   ],
   "dockerImageVersionId": 31042,
   "isGpuEnabled": false,
   "isInternetEnabled": true,
   "language": "python",
   "sourceType": "notebook"
  },
  "kernelspec": {
   "display_name": "Python 3",
   "language": "python",
   "name": "python3"
  },
  "language_info": {
   "codemirror_mode": {
    "name": "ipython",
    "version": 3
   },
   "file_extension": ".py",
   "mimetype": "text/x-python",
   "name": "python",
   "nbconvert_exporter": "python",
   "pygments_lexer": "ipython3",
   "version": "3.11.11"
  }
 },
 "nbformat": 4,
 "nbformat_minor": 4
}
