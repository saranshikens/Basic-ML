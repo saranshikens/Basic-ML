{
  "nbformat": 4,
  "nbformat_minor": 0,
  "metadata": {
    "colab": {
      "provenance": [],
      "authorship_tag": "ABX9TyOpnwT1rLkyN0jUl0gPK3na",
      "include_colab_link": true
    },
    "kernelspec": {
      "name": "python3",
      "display_name": "Python 3"
    },
    "language_info": {
      "name": "python"
    }
  },
  "cells": [
    {
      "cell_type": "markdown",
      "metadata": {
        "id": "view-in-github",
        "colab_type": "text"
      },
      "source": [
        "<a href=\"https://colab.research.google.com/github/saranshikens/Basic-ML/blob/main/Linear_Regression_from_Scratch.ipynb\" target=\"_parent\"><img src=\"https://colab.research.google.com/assets/colab-badge.svg\" alt=\"Open In Colab\"/></a>"
      ]
    },
    {
      "cell_type": "markdown",
      "source": [
        "**IMPLEMENTING LINEAR REGRESSON USING ONLY NUMPY**"
      ],
      "metadata": {
        "id": "ZRLtY1FLG5d4"
      }
    },
    {
      "cell_type": "markdown",
      "source": [
        "**THEORY**  \n",
        "Let us define some notations first.  \n",
        "\n",
        "1.   $x_i$ - our input values,\n",
        "2.   X - an array containing them,\n",
        "3.   $y_i$ - the true ouput associated with each $x_i$,\n",
        "4.   $Y$ - an array of $y_i$'s,\n",
        "5.   $\\hat{y}_i=wx_i+b$ - predictions for $x_i$,\n",
        "     where $w$ is the weight and $b$ is the bias, and\n",
        "6.   $\\hat{Y}$ - an array of $\\hat{y_i}$.\n",
        "\n",
        "We will use $E(w,b)$ = Mean Square Error as our metric for loss.  \n",
        "$E(w,b) = \\displaystyle \\dfrac{1}{n} \\sum_{i=1}^{n} (y_i-\\hat{y_i})^2 = \\dfrac{1}{n} \\sum_{i=1}^{n} (y_i-wx_i-b)^2$.  \n",
        "$dw$ = $\\dfrac{\\partial{E}}{\\partial{w}} = \\displaystyle \\dfrac{2}{n} \\sum_{i=1}^{n} x_i(\\hat{y_i}-y_i)$.  \n",
        "$db$ = $\\dfrac{\\partial{E}}{\\partial{b}} = \\displaystyle \\dfrac{2}{n} \\sum_{i=1}^{n} \\hat{y_i}-y_i$.  \n",
        "In matrix notation, $\\dfrac{\\partial{E}}{\\partial{w}} = \\dfrac{2}{n} X^T \\cdot (\\hat{Y}-Y)$.  \n",
        "To update the weights and bias, we change $w$ and $b$ as $w = w - \\alpha \\cdot dw$ and $b = b - \\alpha \\cdot db$, where $\\alpha$ is the learning rate defined by user.   \n",
        "We use these new weights and bias for predicting, and repeat this process for a user defined number of iterations.\n",
        "\n",
        "\n"
      ],
      "metadata": {
        "id": "8SyowT6EHDXv"
      }
    },
    {
      "cell_type": "code",
      "execution_count": null,
      "metadata": {
        "id": "ca07bC6_9FS2"
      },
      "outputs": [],
      "source": [
        "import numpy as np\n",
        "import matplotlib.pyplot as plt\n",
        "from sklearn.model_selection import train_test_split"
      ]
    },
    {
      "cell_type": "markdown",
      "source": [
        "**IMPLEMENTATION OF THE THEORY**"
      ],
      "metadata": {
        "id": "cIV4nH5rORtG"
      }
    },
    {
      "cell_type": "code",
      "source": [
        "class Linear_Regression:\n",
        "  def __init__(self, lr=0.01, n_iter=1000):\n",
        "    self.lr = lr\n",
        "    self.n_iter = n_iter\n",
        "    self.weight = None\n",
        "    self.bias = None\n",
        "\n",
        "  def fit(self, X, y):\n",
        "    n_sample, n_feature = X.shape\n",
        "    self.weight = np.zeros(n_feature)\n",
        "    self.bias = 0\n",
        "\n",
        "    for i in range(self.n_iter):\n",
        "      y_pred = np.dot(X, self.weight) + self.bias\n",
        "      dw = 2/n_sample * np.dot(X.T, y_pred - y)\n",
        "      db = 2/n_sample * np.sum(y_pred - y)\n",
        "      self.weight = self.weight - self.lr * dw\n",
        "      self.bias = self.bias - self.lr * db\n",
        "\n",
        "  def predict(self, X):\n",
        "    y_pred = np.dot(X, self.weight) + self.bias\n",
        "    return y_pred\n"
      ],
      "metadata": {
        "id": "wjz_H_lj9VDe"
      },
      "execution_count": null,
      "outputs": []
    },
    {
      "cell_type": "markdown",
      "source": [
        "**DEFINING MEAN SQUARE ERROR**"
      ],
      "metadata": {
        "id": "C8nLuisPOYDh"
      }
    },
    {
      "cell_type": "code",
      "source": [
        "def mse(y_pred, y):\n",
        "  return np.mean((y_pred-y)**2)"
      ],
      "metadata": {
        "id": "2Ws2bSvTEuqI"
      },
      "execution_count": null,
      "outputs": []
    },
    {
      "cell_type": "markdown",
      "source": [
        "**GENERATING INPUT WITH NOISE**"
      ],
      "metadata": {
        "id": "R23lCUVEOZ6T"
      }
    },
    {
      "cell_type": "code",
      "source": [
        "np.random.seed(0)\n",
        "X = 2 * np.random.rand(100, 1)\n",
        "y = 4 + 3 * X + np.random.randn(100, 1)"
      ],
      "metadata": {
        "id": "pj10H5ZlDLBM"
      },
      "execution_count": null,
      "outputs": []
    },
    {
      "cell_type": "markdown",
      "source": [
        "**TESTING OUR MODEL ON THE INPUT**"
      ],
      "metadata": {
        "id": "vB1RaVBtOe8X"
      }
    },
    {
      "cell_type": "code",
      "source": [
        "model = Linear_Regression()\n",
        "X_train, X_test, y_train, y_test = train_test_split(X, y, test_size=0.2, random_state=0)\n",
        "model.fit(X_train, y_train)\n",
        "prediction = model.predict(X_test)\n",
        "print(mse(prediction, y_test))"
      ],
      "metadata": {
        "colab": {
          "base_uri": "https://localhost:8080/"
        },
        "id": "qBb5E8ydDX4T",
        "outputId": "643f8435-367f-4148-e070-2fb2160c2534"
      },
      "execution_count": null,
      "outputs": [
        {
          "output_type": "stream",
          "name": "stdout",
          "text": [
            "1.0441597402671754\n"
          ]
        }
      ]
    },
    {
      "cell_type": "code",
      "source": [
        "regression_line = model.predict(X)\n",
        "cmap = plt.get_cmap('magma')\n",
        "fig = plt.figure(figsize=(8,6))\n",
        "m1 = plt.scatter(X_train, y_train, color=cmap(0.9), s=10)\n",
        "m2 = plt.scatter(X_test, y_test, color=cmap(0.5), s=10)\n",
        "plt.plot(X, regression_line, color='black')\n",
        "plt.show()"
      ],
      "metadata": {
        "colab": {
          "base_uri": "https://localhost:8080/",
          "height": 522
        },
        "id": "Lp0wSVziFjSj",
        "outputId": "a05b2131-3e8a-493b-d5af-b053b3c5d731"
      },
      "execution_count": null,
      "outputs": [
        {
          "output_type": "display_data",
          "data": {
            "text/plain": [
              "<Figure size 800x600 with 1 Axes>"
            ],
            "image/png": "[encoded data removed]"
          },
          "metadata": {}
        }
      ]
    }
  ]
}