{
  "nbformat": 4,
  "nbformat_minor": 0,
  "metadata": {
    "colab": {
      "provenance": [],
      "authorship_tag": "ABX9TyM5Ld9nGuZcm3cRrCJelu6T",
      "include_colab_link": true
    },
    "kernelspec": {
      "name": "python3",
      "display_name": "Python 3"
    },
    "language_info": {
      "name": "python"
    }
  },
  "cells": [
    {
      "cell_type": "markdown",
      "metadata": {
        "id": "view-in-github",
        "colab_type": "text"
      },
      "source": [
        "<a href=\"https://colab.research.google.com/github/saranshikens/Basic-ML/blob/main/Logistic_Regression_from_Scratch.ipynb\" target=\"_parent\"><img src=\"https://colab.research.google.com/assets/colab-badge.svg\" alt=\"Open In Colab\"/></a>"
      ]
    },
    {
      "cell_type": "markdown",
      "source": [
        "**IMPLEMENTING LOGISTIC REGRESSION FROM SCRATCH**"
      ],
      "metadata": {
        "id": "UI9vGygQqXPW"
      }
    },
    {
      "cell_type": "code",
      "execution_count": 4,
      "metadata": {
        "id": "YsBRfeyWDNu8"
      },
      "outputs": [],
      "source": [
        "import numpy as np\n",
        "import pandas as pd"
      ]
    },
    {
      "cell_type": "markdown",
      "source": [
        "**CUSTOM DATASET**  \n",
        "Here, 0 means 'not obese' and 1 means 'obese'."
      ],
      "metadata": {
        "id": "Bd9ARxsFqdkp"
      }
    },
    {
      "cell_type": "code",
      "source": [
        "data = pd.DataFrame()\n",
        "data['Weight'] = [10,15,21,27,34,35,46,50,79,80,92,101,109,120]\n",
        "data['Obese'] = [0,0,0,0,0,0,0,0,1,1,1,1,1,1]\n",
        "X = data['Weight'].values.reshape(-1,1)\n",
        "y = data['Obese'].values.reshape(-1,1)"
      ],
      "metadata": {
        "id": "CoGKX-mZDX7G"
      },
      "execution_count": 5,
      "outputs": []
    },
    {
      "cell_type": "code",
      "source": [
        "class LogisticRegression:\n",
        "  def __init__(self, lr, n_iter):\n",
        "    self.lr = lr\n",
        "    self.n_iter = n_iter\n",
        "    self.weights = None\n",
        "    self.bias = None\n",
        "\n",
        "  def initialize(self, n_features):\n",
        "    self.weights = np.random.randn(n_features, 1)\n",
        "    self.bias = 0\n",
        "\n",
        "  def sigmoid(self, X):\n",
        "    return 1/(1+np.exp(-X))\n",
        "\n",
        "  def forward_prop(self, X):\n",
        "   Z = np.dot(X, self.weights) + self.bias\n",
        "   return self.sigmoid(Z)\n",
        "\n",
        "  def loss(self, y, y_pred):\n",
        "    epsilon = 1e-9\n",
        "    loss = -np.mean(y*np.log(y_pred+epsilon)+(1-y)*np.log(1-y_pred+epsilon))\n",
        "    return loss\n",
        "\n",
        "  def backward_prop(self, X, y_pred, y):\n",
        "    m = X.shape[0]\n",
        "    dw = np.dot(X.T, (y_pred-y))/m\n",
        "    db = np.sum(y_pred-y)/m\n",
        "    return dw, db\n",
        "\n",
        "  def train(self, X, y):\n",
        "    n_samples, n_features = X.shape\n",
        "    self.initialize(n_features)\n",
        "\n",
        "    for i in range(self.n_iter):\n",
        "      y_pred = self.forward_prop(X)\n",
        "      dw, db = self.backward_prop(X, y_pred, y)\n",
        "      self.weights -= self.lr * dw\n",
        "      self.bias -= self.lr * db\n",
        "\n",
        "      if i%100 == 0:\n",
        "        loss = self.compute_loss(y, y_pred)\n",
        "        print(f\"Iteration {i}, Loss: {loss:.4f}\")\n",
        "\n",
        "  def predict(self, X):\n",
        "    y_pred = self.forward_prop(X)\n",
        "    return (y_pred >=0.5).astype(int)\n",
        "\n"
      ],
      "metadata": {
        "id": "ZGw3X_7pEG_X"
      },
      "execution_count": 16,
      "outputs": []
    },
    {
      "cell_type": "code",
      "source": [
        "model = LogisticRegression(lr=0.001, n_iter=4000)\n",
        "model.train(X, y)\n",
        "predictions = model.predict(X)\n",
        "print(\"Predictions:\", predictions.T)"
      ],
      "metadata": {
        "colab": {
          "base_uri": "https://localhost:8080/"
        },
        "id": "vvhAA3V6oIbf",
        "outputId": "e1182bd5-e0aa-4582-ba26-72b63a386dab"
      },
      "execution_count": 15,
      "outputs": [
        {
          "output_type": "stream",
          "name": "stdout",
          "text": [
            "Iteration 0, Loss: 8.7392\n",
            "Iteration 100, Loss: 0.6191\n",
            "Iteration 200, Loss: 0.6141\n",
            "Iteration 300, Loss: 0.6092\n",
            "Iteration 400, Loss: 0.6044\n",
            "Iteration 500, Loss: 0.5996\n",
            "Iteration 600, Loss: 0.5948\n",
            "Iteration 700, Loss: 0.5902\n",
            "Iteration 800, Loss: 0.5856\n",
            "Iteration 900, Loss: 0.5810\n",
            "Iteration 1000, Loss: 0.5765\n",
            "Iteration 1100, Loss: 0.5721\n",
            "Iteration 1200, Loss: 0.5677\n",
            "Iteration 1300, Loss: 0.5634\n",
            "Iteration 1400, Loss: 0.5591\n",
            "Iteration 1500, Loss: 0.5549\n",
            "Iteration 1600, Loss: 0.5508\n",
            "Iteration 1700, Loss: 0.5467\n",
            "Iteration 1800, Loss: 0.5426\n",
            "Iteration 1900, Loss: 0.5386\n",
            "Iteration 2000, Loss: 0.5347\n",
            "Iteration 2100, Loss: 0.5308\n",
            "Iteration 2200, Loss: 0.5269\n",
            "Iteration 2300, Loss: 0.5231\n",
            "Iteration 2400, Loss: 0.5193\n",
            "Iteration 2500, Loss: 0.5156\n",
            "Iteration 2600, Loss: 0.5120\n",
            "Iteration 2700, Loss: 0.5084\n",
            "Iteration 2800, Loss: 0.5048\n",
            "Iteration 2900, Loss: 0.5013\n",
            "Iteration 3000, Loss: 0.4978\n",
            "Iteration 3100, Loss: 0.4944\n",
            "Iteration 3200, Loss: 0.4910\n",
            "Iteration 3300, Loss: 0.4876\n",
            "Iteration 3400, Loss: 0.4843\n",
            "Iteration 3500, Loss: 0.4811\n",
            "Iteration 3600, Loss: 0.4778\n",
            "Iteration 3700, Loss: 0.4746\n",
            "Iteration 3800, Loss: 0.4715\n",
            "Iteration 3900, Loss: 0.4684\n",
            "Predictions: [[0 0 0 0 0 0 1 1 1 1 1 1 1 1]]\n"
          ]
        }
      ]
    }
  ]
}