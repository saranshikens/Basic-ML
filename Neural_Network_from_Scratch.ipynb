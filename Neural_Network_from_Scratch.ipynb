{
  "metadata": {
    "kernelspec": {
      "language": "python",
      "display_name": "Python 3",
      "name": "python3"
    },
    "language_info": {
      "name": "python",
      "version": "3.11.11",
      "mimetype": "text/x-python",
      "codemirror_mode": {
        "name": "ipython",
        "version": 3
      },
      "pygments_lexer": "ipython3",
      "nbconvert_exporter": "python",
      "file_extension": ".py"
    },
    "kaggle": {
      "accelerator": "none",
      "dataSources": [
        {
          "sourceId": 8204,
          "sourceType": "datasetVersion",
          "datasetId": 4458
        }
      ],
      "dockerImageVersionId": 31040,
      "isInternetEnabled": true,
      "language": "python",
      "sourceType": "notebook",
      "isGpuEnabled": false
    },
    "colab": {
      "provenance": [],
      "include_colab_link": true
    }
  },
  "nbformat_minor": 0,
  "nbformat": 4,
  "cells": [
    {
      "cell_type": "markdown",
      "metadata": {
        "id": "view-in-github",
        "colab_type": "text"
      },
      "source": [
        "<a href=\"https://colab.research.google.com/github/saranshikens/Basic-ML/blob/main/Neural_Network_from_Scratch.ipynb\" target=\"_parent\"><img src=\"https://colab.research.google.com/assets/colab-badge.svg\" alt=\"Open In Colab\"/></a>"
      ]
    },
    {
      "cell_type": "markdown",
      "source": [
        "**IMPLEMENTING A SIMPLE NEURAL NETWORK USING ONLY NUMPY**"
      ],
      "metadata": {
        "id": "vRLsEsc4Zu-Y"
      }
    },
    {
      "cell_type": "markdown",
      "source": [
        "**DERIVING THE BACKWARD PROPAGATION GRADIENTS**  \n",
        "To optimise the weights and biases, we use gradient descent. Hence, we first obtain the expressions for the gradient of the Loss Function with respect to various parameters.  \n",
        "Before that, we will derive some useful results obtained by calculus on matrices."
      ],
      "metadata": {
        "id": "ddD2gR8RTE_i"
      }
    },
    {
      "cell_type": "markdown",
      "source": [
        "**SOME IDENTITIES**"
      ],
      "metadata": {
        "id": "7fnxXg3iTQ-D"
      }
    },
    {
      "cell_type": "markdown",
      "source": [
        "**Matrix times column vector with respect to the column vector**  \n",
        "Let $z = Wx$, where $W \\in \\mathbb{R}^{n \\times m}$, and $x \\in \\mathbb{R}^{m \\times 1}$. So, $z \\in \\mathbb{R}^{n \\times 1}$.   \n",
        "We need to calculate $\\dfrac{\\partial{z}}{\\partial{x}}$.\n",
        "Observe that $z_{i} = \\displaystyle \\sum_{j=1}^{m} W_{ij} x_{j}$.  \n",
        "$\\left(\\dfrac{\\partial{z}}{\\partial{x}}\\right)_{ik} = \\dfrac{\\partial{z_i}}{\\partial{x_k}} = \\dfrac{\\partial}{\\partial{x_k}} \\displaystyle \\sum_{j=1}^{m} W_{ij}x_j = \\begin{cases}\n",
        "W_{ik}, & \\text{if } j=k\\\\  \n",
        "0, & \\text{if otherwise}\n",
        "\\end{cases}$  \n",
        "So, $\\left(\\dfrac{\\partial{z}}{\\partial{x}}\\right)_{ik} = W_{ik}$. In other words, $\\dfrac{\\partial{z}}{\\partial{x}} = W$"
      ],
      "metadata": {
        "id": "epmukfugTT3n"
      }
    },
    {
      "cell_type": "markdown",
      "source": [
        "**Column vector times matrix with respect to the column vector**  \n",
        "Let $z = xW$. A similar methodology as above will yield that $\\dfrac{\\partial{z}}{\\partial{x}} = W^{T}$."
      ],
      "metadata": {
        "id": "mSXGnkq0YB-9"
      }
    },
    {
      "cell_type": "markdown",
      "source": [
        "**An element wise function applied to a vector**  \n",
        "Let $z = f(x)$, where $x \\in \\mathbb{R}^{m \\times 1}$, and $f:\\mathbb{R} → \\mathbb{R}$. So, $z \\in \\mathbb{R}^{m \\times 1}$.  \n",
        "Observe that $z_{i} = f(x_i)$.  \n",
        "$\\left(\\dfrac{\\partial{z}}{\\partial{x}}\\right)_{ik} = \\dfrac{\\partial{z_i}}{\\partial{x_k}} = \\dfrac{\\partial}{\\partial{x_k}} f(x_i) = \\begin{cases}\n",
        "f'(x_i), & \\text{if } i=k\\\\  \n",
        "0, & \\text{if otherwise}\n",
        "\\end{cases}$  \n",
        "So, $\\dfrac{\\partial{z}}{\\partial{x}} = \\text{diag}(f'(x))$."
      ],
      "metadata": {
        "id": "vkgSXBSgYWo1"
      }
    },
    {
      "cell_type": "markdown",
      "source": [
        "**Matrix times column vector with respect to the matrix**  \n",
        "Let $z = Wx$ and $L: \\mathbb{R}^{n \\times m} → \\mathbb{R}$, where $W \\in \\mathbb{R}^{n \\times m}$, and $x \\in \\mathbb{R}^{m \\times 1}$. So, again $z \\in \\mathbb{R}^{n \\times 1}$.  \n",
        "For the purpose of this notebook, we shall compute $\\dfrac{\\partial{L}}{\\partial{W}} = \\dfrac{\\partial{L}}{\\partial{z}} \\dfrac{\\partial{z}}{\\partial{W}} = δ \\dfrac{\\partial{z}}{\\partial{W}}$.  \n",
        "Let us analyze $\\dfrac{\\partial{z}}{\\partial{W}}$ more closely. $\\left(\\dfrac{\\partial{z}}{\\partial{W}}\\right)_{ij} = \\dfrac{\\partial{Z}}{\\partial{W_{ij}}}$, which in itself is matrix.  \n",
        "Actually, $\\dfrac{\\partial{z}}{\\partial{W}}$ is an $n \\times m \\times n$ tensor.   \n",
        "Now, $z_k = \\displaystyle \\sum_{l=1}^m W_{kl}x_{l}$. $\\dfrac{\\partial{z_k}}{\\partial{W_{ij}}} = \\displaystyle \\sum_{l=1}^m x_l \\dfrac{\\partial{W_{kl}}}{\\partial{W_{ij}}} = x_j$, iff $k=i$ and $l=j$.  \n",
        "So, $\\dfrac{\\partial{z}}{\\partial{W_{ij}}}$ is a tensor where $i^{th}$ matrix is a column vector where $j^{th}$ element is $x_j$ and rest of the elements are 0.  \n",
        "$\\dfrac{\\partial{L}}{\\partial{W_{ij}}} = \\dfrac{\\partial{L}}{\\partial{z}} \\dfrac{\\partial{z}}{\\partial{W_{ij}}} = \\delta \\dfrac{\\partial{z}}{\\partial{W_{ij}}} = \\delta_i x_j$.  \n",
        "Hence, $\\dfrac{\\partial{L}}{\\partial{W}} = \\delta^T x^T$."
      ],
      "metadata": {
        "id": "LFk35Je3Z3fW"
      }
    },
    {
      "cell_type": "markdown",
      "source": [
        "**Row vector time matrix with respect to the matrix **\n",
        "Let $z = xW$ and $L: \\mathbb{R}^{n \\times m} → \\mathbb{R}$, where $W \\in \\mathbb{R}^{n \\times m}$, and $x \\in \\mathbb{R}^{m \\times 1}$.  \n",
        "A similar methodology as above will show that $\\dfrac{\\partial{L}}{\\partial{W}} = x^T \\delta$."
      ],
      "metadata": {
        "id": "BrxtPYNil1Nz"
      }
    },
    {
      "cell_type": "markdown",
      "source": [
        "**COMPUTING THE NEURAL NETWORK GRADIENTS**"
      ],
      "metadata": {
        "id": "l8o4WX02mcYJ"
      }
    },
    {
      "cell_type": "markdown",
      "source": [
        "Let the following be the expressions for the outputs at each hidden layer, the final output, and the mean loss.  \n",
        "$X_1 = W_1X + B_1$  \n",
        "$A = \\text{ReLU}(X_1)$  \n",
        "$Z = W_2A + B_2$  \n",
        "$\\hat{y} = \\text{softmax}(X_2)$  \n",
        "$L = -1\\displaystyle \\sum_{i=1}^m y_i \\text{log}(\\hat{y_i})$, where $\\hat{y_i} = \\dfrac{e^{z_i}}{\\sum_{j=1}^{m} e^{z_j}}$.  \n",
        "$L = - \\displaystyle \\sum_{i=1}^{m}y_iz_i + \\text{log}\\sum_{j=1}^{m} e^{z_j}$  \n",
        "$\\dfrac{\\partial{L}}{\\partial{z_j}} = -{y_j} + \\hat{y_j}$, i.e. $\\dfrac{\\partial{L}}{\\partial{Z}} = \\hat{y} - \\hat{y}$."
      ],
      "metadata": {
        "id": "5P5vPTB1o0Tf"
      }
    },
    {
      "cell_type": "markdown",
      "source": [
        "$\\dfrac{\\partial{L}}{\\partial{W_2}} = \\dfrac{\\partial{L}}{\\partial{Z}}\\dfrac{\\partial{Z}}{\\partial{W_2}} = \\left(\\dfrac{\\partial{L}}{\\partial{Z}}\\right)^T\\cdot A^T$  \n",
        "$\\dfrac{\\partial{L}}{\\partial{b_2}} = \\dfrac{\\partial{L}}{\\partial{Z}}\\dfrac{\\partial{Z}}{\\partial{b_2}} = \\dfrac{\\partial{L}}{\\partial{Z}}$  \n",
        "$\\dfrac{\\partial{L}}{\\partial{X_1}} = \\dfrac{\\partial{L}}{\\partial{Z}}\\dfrac{\\partial{Z}}{\\partial{A}}\\dfrac{\\partial{A}}{\\partial{X_1}} = \\dfrac{\\partial{L}}{\\partial{Z}}\\cdot W_2 * \\text{ReLU_deriv}(X_1)$  \n",
        "$\\dfrac{\\partial{L}}{\\partial{W_1}} = \\dfrac{\\partial{L}}{\\partial{Z}}\\dfrac{\\partial{Z}}{\\partial{A}}\\dfrac{\\partial{A}}{\\partial{X_1}}\\dfrac{\\partial{X_1}}{\\partial{W_1}} = \\dfrac{\\partial{L}}{\\partial{X_1}}\\cdot X^T$  \n",
        "$\\dfrac{\\partial{L}}{\\partial{W_1}} = \\dfrac{\\partial{L}}{\\partial{Z}}\\dfrac{\\partial{Z}}{\\partial{A}}\\dfrac{\\partial{A}}{\\partial{X_1}}\\dfrac{\\partial{X_1}}{\\partial{W_1}} = \\dfrac{\\partial{L}}{\\partial{X_1}}\\cdot X^T$\n",
        "$\\dfrac{\\partial{L}}{\\partial{b_1}} = \\dfrac{\\partial{L}}{\\partial{Z}}\\dfrac{\\partial{Z}}{\\partial{A}}\\dfrac{\\partial{A}}{\\partial{X_1}}\\dfrac{\\partial{X_1}}{\\partial{b_1}} = \\dfrac{\\partial{L}}{\\partial{X_1}}$  \n",
        "In the code, we divide the gradients by the number of samples, since we consider the mean of the gradients over various inputs.  "
      ],
      "metadata": {
        "id": "H4G2y_ASVu5R"
      }
    },
    {
      "cell_type": "code",
      "source": [
        "import numpy as np\n",
        "import pandas as pd"
      ],
      "metadata": {
        "_uuid": "8f2839f25d086af736a60e9eeb907d3b93b6e0e5",
        "_cell_guid": "b1076dfc-b9ad-4769-8c92-a6c4dae69d19",
        "trusted": true,
        "execution": {
          "iopub.status.busy": "2025-06-02T15:02:17.177266Z",
          "iopub.execute_input": "2025-06-02T15:02:17.177466Z",
          "iopub.status.idle": "2025-06-02T15:02:19.033267Z",
          "shell.execute_reply.started": "2025-06-02T15:02:17.177449Z",
          "shell.execute_reply": "2025-06-02T15:02:19.032515Z"
        },
        "id": "KQuU5-6iU1fD"
      },
      "outputs": [],
      "execution_count": null
    },
    {
      "cell_type": "code",
      "source": [
        "path = \"/content/sample_data/mnist_train_small.csv\"\n",
        "data = pd.read_csv(path)"
      ],
      "metadata": {
        "trusted": true,
        "execution": {
          "iopub.status.busy": "2025-06-02T15:02:49.318076Z",
          "iopub.execute_input": "2025-06-02T15:02:49.318893Z",
          "iopub.status.idle": "2025-06-02T15:02:49.348966Z",
          "shell.execute_reply.started": "2025-06-02T15:02:49.31886Z",
          "shell.execute_reply": "2025-06-02T15:02:49.348134Z"
        },
        "id": "dQXOeL9vU1fE"
      },
      "outputs": [],
      "execution_count": null
    },
    {
      "cell_type": "code",
      "source": [
        "data.head()"
      ],
      "metadata": {
        "trusted": true,
        "execution": {
          "iopub.status.busy": "2025-06-02T15:02:51.138139Z",
          "iopub.execute_input": "2025-06-02T15:02:51.138973Z",
          "iopub.status.idle": "2025-06-02T15:02:51.172409Z",
          "shell.execute_reply.started": "2025-06-02T15:02:51.138936Z",
          "shell.execute_reply": "2025-06-02T15:02:51.171569Z"
        },
        "id": "yWp-23kbU1fE",
        "outputId": "3413c57b-7343-428c-daa3-53b7d6363c72",
        "colab": {
          "base_uri": "https://localhost:8080/",
          "height": 235
        }
      },
      "outputs": [
        {
          "output_type": "execute_result",
          "data": {
            "text/plain": [
              "   6  0  0.1  0.2  0.3  0.4  0.5  0.6  0.7  0.8  ...  0.581  0.582  0.583  \\\n",
              "0  5  0    0    0    0    0    0    0    0    0  ...      0      0      0   \n",
              "1  7  0    0    0    0    0    0    0    0    0  ...      0      0      0   \n",
              "2  9  0    0    0    0    0    0    0    0    0  ...      0      0      0   \n",
              "3  5  0    0    0    0    0    0    0    0    0  ...      0      0      0   \n",
              "4  2  0    0    0    0    0    0    0    0    0  ...      0      0      0   \n",
              "\n",
              "   0.584  0.585  0.586  0.587  0.588  0.589  0.590  \n",
              "0      0      0      0      0      0      0      0  \n",
              "1      0      0      0      0      0      0      0  \n",
              "2      0      0      0      0      0      0      0  \n",
              "3      0      0      0      0      0      0      0  \n",
              "4      0      0      0      0      0      0      0  \n",
              "\n",
              "[5 rows x 785 columns]"
            ],
            "text/html": [
              "\n",
              "  <div id=\"df-f04c84f2-5134-405d-8be7-7358f13a4784\" class=\"colab-df-container\">\n",
              "    <div>\n",
              "<style scoped>\n",
              "    .dataframe tbody tr th:only-of-type {\n",
              "        vertical-align: middle;\n",
              "    }\n",
              "\n",
              "    .dataframe tbody tr th {\n",
              "        vertical-align: top;\n",
              "    }\n",
              "\n",
              "    .dataframe thead th {\n",
              "        text-align: right;\n",
              "    }\n",
              "</style>\n",
              "<table border=\"1\" class=\"dataframe\">\n",
              "  <thead>\n",
              "    <tr style=\"text-align: right;\">\n",
              "      <th></th>\n",
              "      <th>6</th>\n",
              "      <th>0</th>\n",
              "      <th>0.1</th>\n",
              "      <th>0.2</th>\n",
              "      <th>0.3</th>\n",
              "      <th>0.4</th>\n",
              "      <th>0.5</th>\n",
              "      <th>0.6</th>\n",
              "      <th>0.7</th>\n",
              "      <th>0.8</th>\n",
              "      <th>...</th>\n",
              "      <th>0.581</th>\n",
              "      <th>0.582</th>\n",
              "      <th>0.583</th>\n",
              "      <th>0.584</th>\n",
              "      <th>0.585</th>\n",
              "      <th>0.586</th>\n",
              "      <th>0.587</th>\n",
              "      <th>0.588</th>\n",
              "      <th>0.589</th>\n",
              "      <th>0.590</th>\n",
              "    </tr>\n",
              "  </thead>\n",
              "  <tbody>\n",
              "    <tr>\n",
              "      <th>0</th>\n",
              "      <td>5</td>\n",
              "      <td>0</td>\n",
              "      <td>0</td>\n",
              "      <td>0</td>\n",
              "      <td>0</td>\n",
              "      <td>0</td>\n",
              "      <td>0</td>\n",
              "      <td>0</td>\n",
              "      <td>0</td>\n",
              "      <td>0</td>\n",
              "      <td>...</td>\n",
              "      <td>0</td>\n",
              "      <td>0</td>\n",
              "      <td>0</td>\n",
              "      <td>0</td>\n",
              "      <td>0</td>\n",
              "      <td>0</td>\n",
              "      <td>0</td>\n",
              "      <td>0</td>\n",
              "      <td>0</td>\n",
              "      <td>0</td>\n",
              "    </tr>\n",
              "    <tr>\n",
              "      <th>1</th>\n",
              "      <td>7</td>\n",
              "      <td>0</td>\n",
              "      <td>0</td>\n",
              "      <td>0</td>\n",
              "      <td>0</td>\n",
              "      <td>0</td>\n",
              "      <td>0</td>\n",
              "      <td>0</td>\n",
              "      <td>0</td>\n",
              "      <td>0</td>\n",
              "      <td>...</td>\n",
              "      <td>0</td>\n",
              "      <td>0</td>\n",
              "      <td>0</td>\n",
              "      <td>0</td>\n",
              "      <td>0</td>\n",
              "      <td>0</td>\n",
              "      <td>0</td>\n",
              "      <td>0</td>\n",
              "      <td>0</td>\n",
              "      <td>0</td>\n",
              "    </tr>\n",
              "    <tr>\n",
              "      <th>2</th>\n",
              "      <td>9</td>\n",
              "      <td>0</td>\n",
              "      <td>0</td>\n",
              "      <td>0</td>\n",
              "      <td>0</td>\n",
              "      <td>0</td>\n",
              "      <td>0</td>\n",
              "      <td>0</td>\n",
              "      <td>0</td>\n",
              "      <td>0</td>\n",
              "      <td>...</td>\n",
              "      <td>0</td>\n",
              "      <td>0</td>\n",
              "      <td>0</td>\n",
              "      <td>0</td>\n",
              "      <td>0</td>\n",
              "      <td>0</td>\n",
              "      <td>0</td>\n",
              "      <td>0</td>\n",
              "      <td>0</td>\n",
              "      <td>0</td>\n",
              "    </tr>\n",
              "    <tr>\n",
              "      <th>3</th>\n",
              "      <td>5</td>\n",
              "      <td>0</td>\n",
              "      <td>0</td>\n",
              "      <td>0</td>\n",
              "      <td>0</td>\n",
              "      <td>0</td>\n",
              "      <td>0</td>\n",
              "      <td>0</td>\n",
              "      <td>0</td>\n",
              "      <td>0</td>\n",
              "      <td>...</td>\n",
              "      <td>0</td>\n",
              "      <td>0</td>\n",
              "      <td>0</td>\n",
              "      <td>0</td>\n",
              "      <td>0</td>\n",
              "      <td>0</td>\n",
              "      <td>0</td>\n",
              "      <td>0</td>\n",
              "      <td>0</td>\n",
              "      <td>0</td>\n",
              "    </tr>\n",
              "    <tr>\n",
              "      <th>4</th>\n",
              "      <td>2</td>\n",
              "      <td>0</td>\n",
              "      <td>0</td>\n",
              "      <td>0</td>\n",
              "      <td>0</td>\n",
              "      <td>0</td>\n",
              "      <td>0</td>\n",
              "      <td>0</td>\n",
              "      <td>0</td>\n",
              "      <td>0</td>\n",
              "      <td>...</td>\n",
              "      <td>0</td>\n",
              "      <td>0</td>\n",
              "      <td>0</td>\n",
              "      <td>0</td>\n",
              "      <td>0</td>\n",
              "      <td>0</td>\n",
              "      <td>0</td>\n",
              "      <td>0</td>\n",
              "      <td>0</td>\n",
              "      <td>0</td>\n",
              "    </tr>\n",
              "  </tbody>\n",
              "</table>\n",
              "<p>5 rows × 785 columns</p>\n",
              "</div>\n",
              "    <div class=\"colab-df-buttons\">\n",
              "\n",
              "  <div class=\"colab-df-container\">\n",
              "    <button class=\"colab-df-convert\" onclick=\"convertToInteractive('df-f04c84f2-5134-405d-8be7-7358f13a4784')\"\n",
              "            title=\"Convert this dataframe to an interactive table.\"\n",
              "            style=\"display:none;\">\n",
              "\n",
              "  <svg xmlns=\"http://www.w3.org/2000/svg\" height=\"24px\" viewBox=\"0 -960 960 960\">\n",
              "    <path d=\"M120-120v-720h720v720H120Zm60-500h600v-160H180v160Zm220 220h160v-160H400v160Zm0 220h160v-160H400v160ZM180-400h160v-160H180v160Zm440 0h160v-160H620v160ZM180-180h160v-160H180v160Zm440 0h160v-160H620v160Z\"/>\n",
              "  </svg>\n",
              "    </button>\n",
              "\n",
              "  <style>\n",
              "    .colab-df-container {\n",
              "      display:flex;\n",
              "      gap: 12px;\n",
              "    }\n",
              "\n",
              "    .colab-df-convert {\n",
              "      background-color: #E8F0FE;\n",
              "      border: none;\n",
              "      border-radius: 50%;\n",
              "      cursor: pointer;\n",
              "      display: none;\n",
              "      fill: #1967D2;\n",
              "      height: 32px;\n",
              "      padding: 0 0 0 0;\n",
              "      width: 32px;\n",
              "    }\n",
              "\n",
              "    .colab-df-convert:hover {\n",
              "      background-color: #E2EBFA;\n",
              "      box-shadow: 0px 1px 2px rgba(60, 64, 67, 0.3), 0px 1px 3px 1px rgba(60, 64, 67, 0.15);\n",
              "      fill: #174EA6;\n",
              "    }\n",
              "\n",
              "    .colab-df-buttons div {\n",
              "      margin-bottom: 4px;\n",
              "    }\n",
              "\n",
              "    [theme=dark] .colab-df-convert {\n",
              "      background-color: #3B4455;\n",
              "      fill: #D2E3FC;\n",
              "    }\n",
              "\n",
              "    [theme=dark] .colab-df-convert:hover {\n",
              "      background-color: #434B5C;\n",
              "      box-shadow: 0px 1px 3px 1px rgba(0, 0, 0, 0.15);\n",
              "      filter: drop-shadow(0px 1px 2px rgba(0, 0, 0, 0.3));\n",
              "      fill: #FFFFFF;\n",
              "    }\n",
              "  </style>\n",
              "\n",
              "    <script>\n",
              "      const buttonEl =\n",
              "        document.querySelector('#df-f04c84f2-5134-405d-8be7-7358f13a4784 button.colab-df-convert');\n",
              "      buttonEl.style.display =\n",
              "        google.colab.kernel.accessAllowed ? 'block' : 'none';\n",
              "\n",
              "      async function convertToInteractive(key) {\n",
              "        const element = document.querySelector('#df-f04c84f2-5134-405d-8be7-7358f13a4784');\n",
              "        const dataTable =\n",
              "          await google.colab.kernel.invokeFunction('convertToInteractive',\n",
              "                                                    [key], {});\n",
              "        if (!dataTable) return;\n",
              "\n",
              "        const docLinkHtml = 'Like what you see? Visit the ' +\n",
              "          '<a target=\"_blank\" href=https://colab.research.google.com/notebooks/data_table.ipynb>data table notebook</a>'\n",
              "          + ' to learn more about interactive tables.';\n",
              "        element.innerHTML = '';\n",
              "        dataTable['output_type'] = 'display_data';\n",
              "        await google.colab.output.renderOutput(dataTable, element);\n",
              "        const docLink = document.createElement('div');\n",
              "        docLink.innerHTML = docLinkHtml;\n",
              "        element.appendChild(docLink);\n",
              "      }\n",
              "    </script>\n",
              "  </div>\n",
              "\n",
              "\n",
              "    <div id=\"df-38696bce-ecf4-41b7-b42e-0c6d11c67e02\">\n",
              "      <button class=\"colab-df-quickchart\" onclick=\"quickchart('df-38696bce-ecf4-41b7-b42e-0c6d11c67e02')\"\n",
              "                title=\"Suggest charts\"\n",
              "                style=\"display:none;\">\n",
              "\n",
              "<svg xmlns=\"http://www.w3.org/2000/svg\" height=\"24px\"viewBox=\"0 0 24 24\"\n",
              "     width=\"24px\">\n",
              "    <g>\n",
              "        <path d=\"M19 3H5c-1.1 0-2 .9-2 2v14c0 1.1.9 2 2 2h14c1.1 0 2-.9 2-2V5c0-1.1-.9-2-2-2zM9 17H7v-7h2v7zm4 0h-2V7h2v10zm4 0h-2v-4h2v4z\"/>\n",
              "    </g>\n",
              "</svg>\n",
              "      </button>\n",
              "\n",
              "<style>\n",
              "  .colab-df-quickchart {\n",
              "      --bg-color: #E8F0FE;\n",
              "      --fill-color: #1967D2;\n",
              "      --hover-bg-color: #E2EBFA;\n",
              "      --hover-fill-color: #174EA6;\n",
              "      --disabled-fill-color: #AAA;\n",
              "      --disabled-bg-color: #DDD;\n",
              "  }\n",
              "\n",
              "  [theme=dark] .colab-df-quickchart {\n",
              "      --bg-color: #3B4455;\n",
              "      --fill-color: #D2E3FC;\n",
              "      --hover-bg-color: #434B5C;\n",
              "      --hover-fill-color: #FFFFFF;\n",
              "      --disabled-bg-color: #3B4455;\n",
              "      --disabled-fill-color: #666;\n",
              "  }\n",
              "\n",
              "  .colab-df-quickchart {\n",
              "    background-color: var(--bg-color);\n",
              "    border: none;\n",
              "    border-radius: 50%;\n",
              "    cursor: pointer;\n",
              "    display: none;\n",
              "    fill: var(--fill-color);\n",
              "    height: 32px;\n",
              "    padding: 0;\n",
              "    width: 32px;\n",
              "  }\n",
              "\n",
              "  .colab-df-quickchart:hover {\n",
              "    background-color: var(--hover-bg-color);\n",
              "    box-shadow: 0 1px 2px rgba(60, 64, 67, 0.3), 0 1px 3px 1px rgba(60, 64, 67, 0.15);\n",
              "    fill: var(--button-hover-fill-color);\n",
              "  }\n",
              "\n",
              "  .colab-df-quickchart-complete:disabled,\n",
              "  .colab-df-quickchart-complete:disabled:hover {\n",
              "    background-color: var(--disabled-bg-color);\n",
              "    fill: var(--disabled-fill-color);\n",
              "    box-shadow: none;\n",
              "  }\n",
              "\n",
              "  .colab-df-spinner {\n",
              "    border: 2px solid var(--fill-color);\n",
              "    border-color: transparent;\n",
              "    border-bottom-color: var(--fill-color);\n",
              "    animation:\n",
              "      spin 1s steps(1) infinite;\n",
              "  }\n",
              "\n",
              "  @keyframes spin {\n",
              "    0% {\n",
              "      border-color: transparent;\n",
              "      border-bottom-color: var(--fill-color);\n",
              "      border-left-color: var(--fill-color);\n",
              "    }\n",
              "    20% {\n",
              "      border-color: transparent;\n",
              "      border-left-color: var(--fill-color);\n",
              "      border-top-color: var(--fill-color);\n",
              "    }\n",
              "    30% {\n",
              "      border-color: transparent;\n",
              "      border-left-color: var(--fill-color);\n",
              "      border-top-color: var(--fill-color);\n",
              "      border-right-color: var(--fill-color);\n",
              "    }\n",
              "    40% {\n",
              "      border-color: transparent;\n",
              "      border-right-color: var(--fill-color);\n",
              "      border-top-color: var(--fill-color);\n",
              "    }\n",
              "    60% {\n",
              "      border-color: transparent;\n",
              "      border-right-color: var(--fill-color);\n",
              "    }\n",
              "    80% {\n",
              "      border-color: transparent;\n",
              "      border-right-color: var(--fill-color);\n",
              "      border-bottom-color: var(--fill-color);\n",
              "    }\n",
              "    90% {\n",
              "      border-color: transparent;\n",
              "      border-bottom-color: var(--fill-color);\n",
              "    }\n",
              "  }\n",
              "</style>\n",
              "\n",
              "      <script>\n",
              "        async function quickchart(key) {\n",
              "          const quickchartButtonEl =\n",
              "            document.querySelector('#' + key + ' button');\n",
              "          quickchartButtonEl.disabled = true;  // To prevent multiple clicks.\n",
              "          quickchartButtonEl.classList.add('colab-df-spinner');\n",
              "          try {\n",
              "            const charts = await google.colab.kernel.invokeFunction(\n",
              "                'suggestCharts', [key], {});\n",
              "          } catch (error) {\n",
              "            console.error('Error during call to suggestCharts:', error);\n",
              "          }\n",
              "          quickchartButtonEl.classList.remove('colab-df-spinner');\n",
              "          quickchartButtonEl.classList.add('colab-df-quickchart-complete');\n",
              "        }\n",
              "        (() => {\n",
              "          let quickchartButtonEl =\n",
              "            document.querySelector('#df-38696bce-ecf4-41b7-b42e-0c6d11c67e02 button');\n",
              "          quickchartButtonEl.style.display =\n",
              "            google.colab.kernel.accessAllowed ? 'block' : 'none';\n",
              "        })();\n",
              "      </script>\n",
              "    </div>\n",
              "\n",
              "    </div>\n",
              "  </div>\n"
            ],
            "application/vnd.google.colaboratory.intrinsic+json": {
              "type": "dataframe",
              "variable_name": "data"
            }
          },
          "metadata": {},
          "execution_count": 5
        }
      ],
      "execution_count": null
    },
    {
      "cell_type": "code",
      "source": [
        "data = np.array(data)\n",
        "m, n = data.shape\n",
        "data.shape"
      ],
      "metadata": {
        "trusted": true,
        "execution": {
          "iopub.status.busy": "2025-06-02T15:03:04.778603Z",
          "iopub.execute_input": "2025-06-02T15:03:04.778889Z",
          "iopub.status.idle": "2025-06-02T15:03:04.785082Z",
          "shell.execute_reply.started": "2025-06-02T15:03:04.778868Z",
          "shell.execute_reply": "2025-06-02T15:03:04.784309Z"
        },
        "id": "OnBtHg6wU1fF",
        "outputId": "eddd9e4c-6828-4c60-b8e5-6935ccc2d143",
        "colab": {
          "base_uri": "https://localhost:8080/"
        }
      },
      "outputs": [
        {
          "output_type": "execute_result",
          "data": {
            "text/plain": [
              "(19999, 785)"
            ]
          },
          "metadata": {},
          "execution_count": 6
        }
      ],
      "execution_count": null
    },
    {
      "cell_type": "code",
      "source": [
        "data_valid = data[0:1000].T\n",
        "y_valid = data_valid[0]\n",
        "X_valid = data_valid[1:n]\n",
        "X_valid = X_valid/255\n",
        "\n",
        "data_train = data[1000:m].T\n",
        "y_train = data_train[0]\n",
        "X_train = data_train[1:n]\n",
        "X_train = X_train/255"
      ],
      "metadata": {
        "trusted": true,
        "execution": {
          "iopub.status.busy": "2025-06-02T15:03:07.578016Z",
          "iopub.execute_input": "2025-06-02T15:03:07.578683Z",
          "iopub.status.idle": "2025-06-02T15:03:07.582876Z",
          "shell.execute_reply.started": "2025-06-02T15:03:07.578657Z",
          "shell.execute_reply": "2025-06-02T15:03:07.582121Z"
        },
        "id": "njCIvQWfU1fG"
      },
      "outputs": [],
      "execution_count": null
    },
    {
      "cell_type": "code",
      "source": [
        "class Neural_Network:\n",
        "    def __init__(self, lr, n_iter):\n",
        "        self.lr = lr\n",
        "        self.n_iter = n_iter\n",
        "        self.initialize()\n",
        "\n",
        "    def initialize(self):\n",
        "        self.W1 = np.random.rand(10,784) - 0.5\n",
        "        self.b1 = np.random.rand(10,1) - 0.5\n",
        "        self.W2 = np.random.rand(10,10) - 0.5\n",
        "        self.b2 = np.random.rand(10,1) - 0.5\n",
        "\n",
        "    def ReLU(self, X):\n",
        "        return np.maximum(0,X)\n",
        "\n",
        "    def ReLU_deriv(self, X):\n",
        "        return X>=0\n",
        "\n",
        "    def softmax(self, X):\n",
        "        return np.exp(X)/sum(np.exp(X))\n",
        "\n",
        "    def forward_prop(self, X):\n",
        "        X1 = np.dot(self.W1, X) + self.b1\n",
        "        X1_activated = self.ReLU(X1)\n",
        "\n",
        "        X2 = np.dot(self.W2, X1_activated) + self.b2\n",
        "        output = self.softmax(X2)\n",
        "\n",
        "        return X1, X1_activated, X2, output\n",
        "\n",
        "    def one_hot_encoding(self, y):\n",
        "        y_encoded = np.zeros((y.size, y.max()+1))\n",
        "        y_encoded[np.arange(y.size), y] = 1\n",
        "        y_encoded = y_encoded.T\n",
        "        return y_encoded\n",
        "\n",
        "    def backward_prop(self, X, y, X1, X1_activated, output):\n",
        "        y_encoded = self.one_hot_encoding(y)\n",
        "        dX2 = output - y_encoded\n",
        "        dW2 = 1/m * dX2.dot(X1_activated.T)\n",
        "        db2 = 1/m * np.sum(dX2)\n",
        "        dX1 = np.dot(self.W2, dX2) * self.ReLU_deriv(X1)\n",
        "        dW1 = 1/m * np.dot(dX1, X.T)\n",
        "        db1 = 1/m * np.sum(dX1)\n",
        "        return dW1, db1, dW2, db2\n",
        "\n",
        "    def update(self, dW1, db1, dW2, db2):\n",
        "        self.W1 = self.W1 - self.lr*dW1\n",
        "        self.b1 = self.b1 - self.lr*db1\n",
        "        self.W2 = self.W2 - self.lr*dW2\n",
        "        self.b2 = self.b2 - self.lr*db2\n",
        "\n",
        "    def predict(self, X):\n",
        "        _, _, _, output = self.forward_prop(X)\n",
        "        return np.argmax(output, 0)\n",
        "\n",
        "    def accuracy(self, predictions, y):\n",
        "        return (predictions == y).sum()/y.size\n",
        "\n",
        "    def gradient_descent(self, X, y):\n",
        "        for i in range(self.n_iter):\n",
        "            X1, X1_activated, X2, output = self.forward_prop(X)\n",
        "            dW1, db1, dW2, db2 = self.backward_prop(X, y, X1, X1_activated, output)\n",
        "            self.update(dW1, db1, dW2, db2)\n",
        "            if i%10==0:\n",
        "                predictions = self.predict(X)\n",
        "                print(f\"Iteration {i}: Accuracy = {self.accuracy(predictions, y):.4f}\")"
      ],
      "metadata": {
        "trusted": true,
        "execution": {
          "iopub.status.busy": "2025-06-02T15:11:30.499416Z",
          "iopub.execute_input": "2025-06-02T15:11:30.499771Z",
          "iopub.status.idle": "2025-06-02T15:11:30.516079Z",
          "shell.execute_reply.started": "2025-06-02T15:11:30.499746Z",
          "shell.execute_reply": "2025-06-02T15:11:30.514952Z"
        },
        "id": "-uoBPuOXU1fG"
      },
      "outputs": [],
      "execution_count": null
    },
    {
      "cell_type": "code",
      "source": [
        "model = Neural_Network(0.1, 500)\n",
        "model.gradient_descent(X_train, y_train)"
      ],
      "metadata": {
        "trusted": true,
        "execution": {
          "iopub.status.busy": "2025-06-02T15:11:33.467456Z",
          "iopub.execute_input": "2025-06-02T15:11:33.468188Z",
          "iopub.status.idle": "2025-06-02T15:11:33.477476Z",
          "shell.execute_reply.started": "2025-06-02T15:11:33.468163Z",
          "shell.execute_reply": "2025-06-02T15:11:33.476426Z"
        },
        "id": "bVxVDhgxU1fH",
        "outputId": "14145cd2-ae4d-41b0-8883-151c98c498b8",
        "colab": {
          "base_uri": "https://localhost:8080/"
        }
      },
      "outputs": [
        {
          "output_type": "stream",
          "name": "stdout",
          "text": [
            "Iteration 0: Accuracy = 0.1201\n",
            "Iteration 10: Accuracy = 0.1326\n",
            "Iteration 20: Accuracy = 0.1623\n",
            "Iteration 30: Accuracy = 0.2665\n",
            "Iteration 40: Accuracy = 0.3903\n",
            "Iteration 50: Accuracy = 0.4701\n",
            "Iteration 60: Accuracy = 0.5184\n",
            "Iteration 70: Accuracy = 0.5515\n",
            "Iteration 80: Accuracy = 0.5768\n",
            "Iteration 90: Accuracy = 0.5969\n",
            "Iteration 100: Accuracy = 0.6132\n",
            "Iteration 110: Accuracy = 0.6274\n",
            "Iteration 120: Accuracy = 0.6413\n",
            "Iteration 130: Accuracy = 0.6555\n",
            "Iteration 140: Accuracy = 0.6691\n",
            "Iteration 150: Accuracy = 0.6813\n",
            "Iteration 160: Accuracy = 0.6938\n",
            "Iteration 170: Accuracy = 0.7066\n",
            "Iteration 180: Accuracy = 0.7171\n",
            "Iteration 190: Accuracy = 0.7275\n",
            "Iteration 200: Accuracy = 0.7376\n",
            "Iteration 210: Accuracy = 0.7449\n",
            "Iteration 220: Accuracy = 0.7518\n",
            "Iteration 230: Accuracy = 0.7580\n",
            "Iteration 240: Accuracy = 0.7645\n",
            "Iteration 250: Accuracy = 0.7691\n",
            "Iteration 260: Accuracy = 0.7744\n",
            "Iteration 270: Accuracy = 0.7794\n",
            "Iteration 280: Accuracy = 0.7847\n",
            "Iteration 290: Accuracy = 0.7887\n",
            "Iteration 300: Accuracy = 0.7925\n",
            "Iteration 310: Accuracy = 0.7967\n",
            "Iteration 320: Accuracy = 0.7998\n",
            "Iteration 330: Accuracy = 0.8029\n",
            "Iteration 340: Accuracy = 0.8063\n",
            "Iteration 350: Accuracy = 0.8087\n",
            "Iteration 360: Accuracy = 0.8111\n",
            "Iteration 370: Accuracy = 0.8139\n",
            "Iteration 380: Accuracy = 0.8156\n",
            "Iteration 390: Accuracy = 0.8171\n",
            "Iteration 400: Accuracy = 0.8192\n",
            "Iteration 410: Accuracy = 0.8218\n",
            "Iteration 420: Accuracy = 0.8238\n",
            "Iteration 430: Accuracy = 0.8258\n",
            "Iteration 440: Accuracy = 0.8271\n",
            "Iteration 450: Accuracy = 0.8291\n",
            "Iteration 460: Accuracy = 0.8306\n",
            "Iteration 470: Accuracy = 0.8324\n",
            "Iteration 480: Accuracy = 0.8336\n",
            "Iteration 490: Accuracy = 0.8353\n"
          ]
        }
      ],
      "execution_count": null
    },
    {
      "cell_type": "code",
      "source": [
        "predictions_valid = model.predict(X_valid)\n",
        "accuracy_valid = model.accuracy(predictions_valid, y_valid)\n",
        "print(f\"Validation Accuracy: {accuracy_valid:.4f}\")"
      ],
      "metadata": {
        "colab": {
          "base_uri": "https://localhost:8080/"
        },
        "id": "0PSJm8V5q3NR",
        "outputId": "0d939d5c-d1b2-42f3-ea65-d0b8054d6127"
      },
      "execution_count": null,
      "outputs": [
        {
          "output_type": "stream",
          "name": "stdout",
          "text": [
            "Validation Accuracy: 0.8110\n"
          ]
        }
      ]
    },
    {
      "cell_type": "code",
      "source": [
        "testing_data = pd.read_csv(\"/content/sample_data/mnist_test.csv\")"
      ],
      "metadata": {
        "id": "QhYLxemWrEGR"
      },
      "execution_count": null,
      "outputs": []
    },
    {
      "cell_type": "code",
      "source": [
        "testing_data = np.array(testing_data)\n",
        "\n",
        "m_test, n_test = testing_data.shape\n",
        "\n",
        "y_test = testing_data[:, 0]\n",
        "X_test = testing_data[:, 1:n_test]\n",
        "\n",
        "X_test = X_test / 255.0"
      ],
      "metadata": {
        "id": "ra2WdB2qrgUP"
      },
      "execution_count": null,
      "outputs": []
    },
    {
      "cell_type": "code",
      "source": [
        "predictions_test = model.predict(X_test.T)\n",
        "accuracy_test = model.accuracy(predictions_test, y_test)\n",
        "print(f\"Testing Accuracy: {accuracy_test:.4f}\")"
      ],
      "metadata": {
        "colab": {
          "base_uri": "https://localhost:8080/"
        },
        "id": "JYGiatcWsDB1",
        "outputId": "bde815d4-05d4-4151-c66e-33c0274534da"
      },
      "execution_count": null,
      "outputs": [
        {
          "output_type": "stream",
          "name": "stdout",
          "text": [
            "Testing Accuracy: 0.8322\n"
          ]
        }
      ]
    }
  ]
}